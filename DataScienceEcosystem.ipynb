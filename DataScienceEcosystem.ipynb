{
 "cells": [
  {
   "cell_type": "markdown",
   "id": "2f7da48e-3e51-4c97-b269-4e7bbb9fb986",
   "metadata": {},
   "source": [
    "# Data Science Tools and Ecosystem"
   ]
  },
  {
   "cell_type": "markdown",
   "id": "2d204026-d15d-4615-af12-af9f5c1e28c4",
   "metadata": {},
   "source": [
    "## In this notebook, Data Science Tools and Ecosystem are summarized."
   ]
  },
  {
   "cell_type": "markdown",
   "id": "e5cbd086-0885-4d5a-bfdb-e4baefb65ff7",
   "metadata": {},
   "source": [
    "#### Some of the popular languages that Data Scientists use are:\n",
    "1. Python\n",
    "2. R\n",
    "3. Java\n",
    "4. Julia\n",
    "5. Scala"
   ]
  },
  {
   "cell_type": "markdown",
   "id": "4a2d37f3-5730-421a-8356-f0db9311d391",
   "metadata": {},
   "source": [
    "#### Some of the commonly used libraries used by Data Scientists include:\n",
    "1. Pandas(for manipulation)\n",
    "2. Numpy (for statistical analysis)\n",
    "3. matplot (for visualization)\n",
    "4. seaborn (for visualization)\n",
    "5. keras (deep learning neural network)\n",
    "6. scilit-learn(machine learning)\n",
    "7. Tensorflow(Deep Learning)"
   ]
  },
  {
   "cell_type": "markdown",
   "id": "c0de3e85-80c5-4e54-a7c7-e2486a425e78",
   "metadata": {},
   "source": [
    "#### Data Science Tools\n",
    "1. Python\n",
    "2. Jupyter Notebook\n",
    "3. Pandas\n",
    "4. SQL\n",
    "5. Anaconda Navigator\n",
    "6. R "
   ]
  },
  {
   "cell_type": "markdown",
   "id": "b8d95075-4ca8-405d-b47d-7b2936bb4cec",
   "metadata": {},
   "source": [
    "## Arithmetic Expression\n",
    "### Below are a few examples of evaluating arithmetic expressions in Python"
   ]
  },
  {
   "cell_type": "code",
   "execution_count": 7,
   "id": "4b8fdb62-ce75-4e9a-aebe-0b1878151c4c",
   "metadata": {
    "tags": []
   },
   "outputs": [
    {
     "data": {
      "text/plain": [
       "17"
      ]
     },
     "execution_count": 7,
     "metadata": {},
     "output_type": "execute_result"
    }
   ],
   "source": [
    "# This a simple arithmetic expression to mutiply then add integers\n",
    "(3*4)+5"
   ]
  },
  {
   "cell_type": "code",
   "execution_count": 8,
   "id": "f0aa187c-4d45-480b-bc0d-29c775762866",
   "metadata": {
    "tags": []
   },
   "outputs": [
    {
     "data": {
      "text/plain": [
       "3.3333333333333335"
      ]
     },
     "execution_count": 8,
     "metadata": {},
     "output_type": "execute_result"
    }
   ],
   "source": [
    "# This will convert 200 minutes to hours by diving by 60\n",
    "minutes = 200\n",
    "hours = minutes / 60\n",
    "hours"
   ]
  },
  {
   "cell_type": "markdown",
   "id": "cf21580b-0c61-4125-8ee4-750c68523cf4",
   "metadata": {},
   "source": [
    "## Objectives: \n",
    "- Python\n",
    "- R\n",
    "- Java\n",
    "- Git,Github and GitLab\n",
    "- Jupyter Notebook,Jupyter Lab,JupyterLite\n",
    "- Scala"
   ]
  },
  {
   "cell_type": "markdown",
   "id": "4aa62e63-a545-484f-818b-53644959eb23",
   "metadata": {},
   "source": [
    "## Author\n",
    "Pankaj Singh"
   ]
  }
 ],
 "metadata": {
  "kernelspec": {
   "display_name": "Python 3 (ipykernel)",
   "language": "python",
   "name": "python3"
  },
  "language_info": {
   "codemirror_mode": {
    "name": "ipython",
    "version": 3
   },
   "file_extension": ".py",
   "mimetype": "text/x-python",
   "name": "python",
   "nbconvert_exporter": "python",
   "pygments_lexer": "ipython3",
   "version": "3.11.5"
  }
 },
 "nbformat": 4,
 "nbformat_minor": 5
}
